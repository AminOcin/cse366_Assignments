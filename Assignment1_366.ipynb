{
  "nbformat": 4,
  "nbformat_minor": 0,
  "metadata": {
    "colab": {
      "provenance": [],
      "authorship_tag": "ABX9TyPjm+l1WWU6KlgNxEfogT1x",
      "include_colab_link": true
    },
    "kernelspec": {
      "name": "python3",
      "display_name": "Python 3"
    },
    "language_info": {
      "name": "python"
    }
  },
  "cells": [
    {
      "cell_type": "markdown",
      "metadata": {
        "id": "view-in-github",
        "colab_type": "text"
      },
      "source": [
        "<a href=\"https://colab.research.google.com/github/AminOcin/cse366_Assignments/blob/main/Assignment1_366.ipynb\" target=\"_parent\"><img src=\"https://colab.research.google.com/assets/colab-badge.svg\" alt=\"Open In Colab\"/></a>"
      ]
    },
    {
      "cell_type": "code",
      "source": [
        "pip install gdown"
      ],
      "metadata": {
        "colab": {
          "base_uri": "https://localhost:8080/"
        },
        "id": "m0a7xO7QVy7x",
        "outputId": "89557ff0-e90f-4a1d-9024-b3a34e5b8931"
      },
      "execution_count": 1,
      "outputs": [
        {
          "output_type": "stream",
          "name": "stdout",
          "text": [
            "Requirement already satisfied: gdown in /usr/local/lib/python3.10/dist-packages (5.1.0)\n",
            "Requirement already satisfied: beautifulsoup4 in /usr/local/lib/python3.10/dist-packages (from gdown) (4.12.3)\n",
            "Requirement already satisfied: filelock in /usr/local/lib/python3.10/dist-packages (from gdown) (3.15.4)\n",
            "Requirement already satisfied: requests[socks] in /usr/local/lib/python3.10/dist-packages (from gdown) (2.31.0)\n",
            "Requirement already satisfied: tqdm in /usr/local/lib/python3.10/dist-packages (from gdown) (4.66.4)\n",
            "Requirement already satisfied: soupsieve>1.2 in /usr/local/lib/python3.10/dist-packages (from beautifulsoup4->gdown) (2.5)\n",
            "Requirement already satisfied: charset-normalizer<4,>=2 in /usr/local/lib/python3.10/dist-packages (from requests[socks]->gdown) (3.3.2)\n",
            "Requirement already satisfied: idna<4,>=2.5 in /usr/local/lib/python3.10/dist-packages (from requests[socks]->gdown) (3.7)\n",
            "Requirement already satisfied: urllib3<3,>=1.21.1 in /usr/local/lib/python3.10/dist-packages (from requests[socks]->gdown) (2.0.7)\n",
            "Requirement already satisfied: certifi>=2017.4.17 in /usr/local/lib/python3.10/dist-packages (from requests[socks]->gdown) (2024.6.2)\n",
            "Requirement already satisfied: PySocks!=1.5.7,>=1.5.6 in /usr/local/lib/python3.10/dist-packages (from requests[socks]->gdown) (1.7.1)\n"
          ]
        }
      ]
    },
    {
      "cell_type": "markdown",
      "source": [
        "**Download the file**"
      ],
      "metadata": {
        "id": "dGxbdekKXncg"
      }
    },
    {
      "cell_type": "code",
      "source": [
        "!gdown --id 1uoXf0kfhfCfc8I5V18sv4vtaQ3aJvjZg"
      ],
      "metadata": {
        "colab": {
          "base_uri": "https://localhost:8080/"
        },
        "id": "TxK-j3-MVzci",
        "outputId": "4651fecd-9500-4aaa-9212-8024aba09e03"
      },
      "execution_count": 2,
      "outputs": [
        {
          "output_type": "stream",
          "name": "stdout",
          "text": [
            "/usr/local/lib/python3.10/dist-packages/gdown/__main__.py:132: FutureWarning: Option `--id` was deprecated in version 4.3.1 and will be removed in 5.0. You don't need to pass it anymore to use a file ID.\n",
            "  warnings.warn(\n",
            "Downloading...\n",
            "From: https://drive.google.com/uc?id=1uoXf0kfhfCfc8I5V18sv4vtaQ3aJvjZg\n",
            "To: /content/viva_366.txt\n",
            "100% 58.0/58.0 [00:00<00:00, 217kB/s]\n"
          ]
        }
      ]
    },
    {
      "cell_type": "markdown",
      "source": [
        "**Specify the location of the file**"
      ],
      "metadata": {
        "id": "UGMFXJOcX5sF"
      }
    },
    {
      "cell_type": "code",
      "source": [
        "output='viva_366.txt'"
      ],
      "metadata": {
        "id": "4DlPTr9SVziU"
      },
      "execution_count": 3,
      "outputs": []
    },
    {
      "cell_type": "markdown",
      "source": [
        "**Convert the text file into list**"
      ],
      "metadata": {
        "id": "n630IwONYB6A"
      }
    },
    {
      "cell_type": "code",
      "source": [
        "try:\n",
        "    with open(output, 'r') as file:\n",
        "        student_ids = [line.strip() for line in file if line.strip()]\n",
        "except FileNotFoundError:\n",
        "    print(f\"Error: The file '{output}' was not found.\") # Indent this line\n",
        "\n",
        "print(student_ids)"
      ],
      "metadata": {
        "colab": {
          "base_uri": "https://localhost:8080/"
        },
        "id": "jD9QROzcVzkW",
        "outputId": "a1245928-fb1a-47ef-c4a3-0a7a86ea6b74"
      },
      "execution_count": 4,
      "outputs": [
        {
          "output_type": "stream",
          "name": "stdout",
          "text": [
            "['2021-3-60-135', '2021-3-60-235', '2021-3-60-077', '2021-3-60-242']\n"
          ]
        }
      ]
    },
    {
      "cell_type": "markdown",
      "source": [
        "**Select Student for viva(Randomly)**"
      ],
      "metadata": {
        "id": "Mifh9j5oYVPB"
      }
    },
    {
      "source": [
        "import random\n",
        "while True:\n",
        "    remaining_students = student_ids[:]\n",
        "    viva_counter = 1\n",
        "\n",
        "    while remaining_students:\n",
        "        selected_student = random.choice(remaining_students)\n",
        "        remaining_students.remove(selected_student)\n",
        "        print(f\"Viva #{viva_counter}: {selected_student}\")\n",
        "        viva_counter += 1\n",
        "\n",
        "    print(\"\\nAll students have been selected. Resetting the list...\\n\")\n",
        "    user_input = input(\"Do you want to run the viva selection process again? (yes/no): \").strip().lower() # Removed extra space here\n",
        "    if user_input != 'yes':\n",
        "        break"
      ],
      "cell_type": "code",
      "metadata": {
        "colab": {
          "base_uri": "https://localhost:8080/"
        },
        "id": "w2_QS73_WgcY",
        "outputId": "3f94ffd0-3e94-4a48-f6f2-99df68d0f625"
      },
      "execution_count": 7,
      "outputs": [
        {
          "name": "stdout",
          "output_type": "stream",
          "text": [
            "Viva #1: 2021-3-60-135\n",
            "Viva #2: 2021-3-60-242\n",
            "Viva #3: 2021-3-60-235\n",
            "Viva #4: 2021-3-60-077\n",
            "\n",
            "All students have been selected. Resetting the list...\n",
            "\n",
            "Do you want to run the viva selection process again? (yes/no): yes\n",
            "Viva #1: 2021-3-60-242\n",
            "Viva #2: 2021-3-60-235\n",
            "Viva #3: 2021-3-60-077\n",
            "Viva #4: 2021-3-60-135\n",
            "\n",
            "All students have been selected. Resetting the list...\n",
            "\n",
            "Do you want to run the viva selection process again? (yes/no): yes\n",
            "Viva #1: 2021-3-60-235\n",
            "Viva #2: 2021-3-60-135\n",
            "Viva #3: 2021-3-60-077\n",
            "Viva #4: 2021-3-60-242\n",
            "\n",
            "All students have been selected. Resetting the list...\n",
            "\n",
            "Do you want to run the viva selection process again? (yes/no): no\n"
          ]
        }
      ]
    },
    {
      "cell_type": "code",
      "source": [],
      "metadata": {
        "id": "S2cx746FVzpL"
      },
      "execution_count": null,
      "outputs": []
    },
    {
      "cell_type": "code",
      "source": [],
      "metadata": {
        "id": "ShWh6yLpVzrg"
      },
      "execution_count": null,
      "outputs": []
    },
    {
      "cell_type": "code",
      "source": [],
      "metadata": {
        "id": "OL5TDKDNVzt1"
      },
      "execution_count": null,
      "outputs": []
    },
    {
      "cell_type": "code",
      "source": [],
      "metadata": {
        "id": "vOYhK6RMVzxP"
      },
      "execution_count": null,
      "outputs": []
    }
  ]
}